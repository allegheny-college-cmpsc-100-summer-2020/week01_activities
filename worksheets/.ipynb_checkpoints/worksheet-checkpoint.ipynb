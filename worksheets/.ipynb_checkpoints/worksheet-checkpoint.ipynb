{
 "cells": [
  {
   "cell_type": "markdown",
   "metadata": {},
   "source": [
    "# CMPSC 100: `Command-line Exploration`\n",
    "\n",
    "---\n",
    "\n",
    "The following worksheet asks you to participate in an exploration of Linux terminal commands. \n",
    "\n",
    "* The `Activity` portion of the worksheet outlines the work that you need to complete. \n",
    "  * Think of this section as *how* you do something in the terminal window.\n",
    "* The `Q & A` portion asks a few questions for you to think about and answer.\n",
    "  * This portion underscores *why* you might do something while working in a command-line interface.\n",
    "\n",
    "\n",
    "## Table of Contents\n",
    "\n",
    "* [Activity](#Activity)\n",
    "* [Q&A](#Q-&-A)"
   ]
  },
  {
   "cell_type": "markdown",
   "metadata": {},
   "source": [
    "## Activity"
   ]
  },
  {
   "cell_type": "markdown",
   "metadata": {},
   "source": [
    "## In class, the instructors will use a Linux-based terminal. More information about the command-line interface and the common terminal commands can be found on the [course Website](https://www.cs.allegheny.edu/sites/jjumadinova/teaching/100/linux_supplement.pdf). GitHub Education provides a [comprehensive cheat sheet](https://education.github.com/git-cheat-sheet-education.pdf) on Git commands, although students in this class will largely only use `clone`, `add`, `commit`, and `push` Git commands."
   ]
  },
  {
   "cell_type": "markdown",
   "metadata": {},
   "source": [
    "### 1. `pwd` command shows which directory you are in. Run this command to see where you are located."
   ]
  },
  {
   "cell_type": "code",
   "execution_count": null,
   "metadata": {},
   "outputs": [],
   "source": []
  },
  {
   "cell_type": "markdown",
   "metadata": {},
   "source": [
    "### 2. `cd` command changes to home directory while `cd ..` changes to directory one level up. If you need to change two directories up you would use `cd ../..` and so on. Using either of these commands navigate to your home directory."
   ]
  },
  {
   "cell_type": "code",
   "execution_count": null,
   "metadata": {},
   "outputs": [],
   "source": []
  },
  {
   "cell_type": "markdown",
   "metadata": {},
   "source": [
    "### 3. `ls` command lists the files in current directory. Run this command to see which files you currently have in the home directory."
   ]
  },
  {
   "cell_type": "code",
   "execution_count": null,
   "metadata": {},
   "outputs": [],
   "source": []
  },
  {
   "cell_type": "markdown",
   "metadata": {},
   "source": [
    "### 4. Navigate to the `activities/week01_activities/` directory that was cloned earlier and contains your name at the end. Show the files in this directory."
   ]
  },
  {
   "cell_type": "code",
   "execution_count": null,
   "metadata": {},
   "outputs": [],
   "source": []
  },
  {
   "cell_type": "code",
   "execution_count": null,
   "metadata": {},
   "outputs": [],
   "source": []
  },
  {
   "cell_type": "markdown",
   "metadata": {},
   "source": [
    "### 5. Now navigate to the `worksheets/` directory. Show the files in this directory."
   ]
  },
  {
   "cell_type": "code",
   "execution_count": null,
   "metadata": {},
   "outputs": [],
   "source": []
  },
  {
   "cell_type": "code",
   "execution_count": null,
   "metadata": {},
   "outputs": [],
   "source": []
  },
  {
   "cell_type": "markdown",
   "metadata": {},
   "source": [
    "### 6. `cp` command creates a copy of a file. Run the `cp worksheet.ipynb test.ipynb` command. Show that you created a new file called `test.ipynb`."
   ]
  },
  {
   "cell_type": "code",
   "execution_count": null,
   "metadata": {},
   "outputs": [],
   "source": []
  },
  {
   "cell_type": "code",
   "execution_count": null,
   "metadata": {},
   "outputs": [],
   "source": []
  },
  {
   "cell_type": "markdown",
   "metadata": {},
   "source": [
    "### 7. `mv` command can be used to rename a file or to move the file to a different location. Run the `mv test.ipynb copy.ipynb` command and use `ls` command to check that the `test.ipynb` file has been renamed. "
   ]
  },
  {
   "cell_type": "code",
   "execution_count": null,
   "metadata": {},
   "outputs": [],
   "source": []
  },
  {
   "cell_type": "code",
   "execution_count": null,
   "metadata": {},
   "outputs": [],
   "source": []
  },
  {
   "cell_type": "markdown",
   "metadata": {},
   "source": [
    "### 8. Now run `mv copy.ipynb ../copy.ipynb` command to move this file one directory up. Navigate to that directory using `cd ..` command to check that the file has been moved."
   ]
  },
  {
   "cell_type": "code",
   "execution_count": null,
   "metadata": {},
   "outputs": [],
   "source": []
  },
  {
   "cell_type": "code",
   "execution_count": null,
   "metadata": {},
   "outputs": [],
   "source": []
  },
  {
   "cell_type": "markdown",
   "metadata": {},
   "source": [
    "### 9. `rm` command can be used to remove a specified file. Use `rm copy.ipynb` command to remove the file called `copy.ipynb`. Using `ls` check that the file has been removed."
   ]
  },
  {
   "cell_type": "code",
   "execution_count": null,
   "metadata": {},
   "outputs": [],
   "source": []
  },
  {
   "cell_type": "code",
   "execution_count": null,
   "metadata": {},
   "outputs": [],
   "source": []
  },
  {
   "cell_type": "markdown",
   "metadata": {},
   "source": [
    "### 10. Navigate back up to the home directory. Using `mkdir labs` command create a new directory called labs. Show the files in the home directory."
   ]
  },
  {
   "cell_type": "code",
   "execution_count": null,
   "metadata": {},
   "outputs": [],
   "source": []
  },
  {
   "cell_type": "code",
   "execution_count": null,
   "metadata": {},
   "outputs": [],
   "source": []
  },
  {
   "cell_type": "markdown",
   "metadata": {},
   "source": [
    "### 11. To submit updated files to a GitHub repository, you need to run a series of commands:\n",
    "* `git add <filename>`: Add one file to staging area or you can use `git add -A` to add all files to staging. `git add` command tells Git that you want to include updates to a particular file in the next commit.\n",
    "* `git commit -m \"your descriptive commit message\"`: The Git equivalent of a \"save\" function. \n",
    "* `git push`: Sends the committed changes to a remote repository.\n",
    "### Using these three commands submit this worksheet to GitHub, after making sure it has been saved. Please note that in order to run these commands in Jupyter notebook, you need to put ! before each command. Alternatively, you can open a new terminal window from your home page of JupyterHub and type these commands there."
   ]
  },
  {
   "cell_type": "code",
   "execution_count": null,
   "metadata": {},
   "outputs": [],
   "source": []
  },
  {
   "cell_type": "code",
   "execution_count": null,
   "metadata": {},
   "outputs": [],
   "source": []
  },
  {
   "cell_type": "code",
   "execution_count": null,
   "metadata": {},
   "outputs": [],
   "source": []
  },
  {
   "cell_type": "markdown",
   "metadata": {},
   "source": [
    "## Q & A"
   ]
  },
  {
   "cell_type": "markdown",
   "metadata": {},
   "source": [
    "1. What does a slash / represent in the command-line directory structure?\n",
    "4. What is meant by \"clone\" in the context of GitHub?"
   ]
  }
 ],
 "metadata": {
  "kernelspec": {
   "display_name": "Python 3",
   "language": "python",
   "name": "python3"
  },
  "language_info": {
   "codemirror_mode": {
    "name": "ipython",
    "version": 3
   },
   "file_extension": ".py",
   "mimetype": "text/x-python",
   "name": "python",
   "nbconvert_exporter": "python",
   "pygments_lexer": "ipython3",
   "version": "3.6.7"
  }
 },
 "nbformat": 4,
 "nbformat_minor": 4
}
